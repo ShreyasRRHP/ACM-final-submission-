{
 "cells": [
  {
   "cell_type": "code",
   "execution_count": 29,
   "id": "c89b03c6-9220-4221-9e57-0bfded5cefc7",
   "metadata": {},
   "outputs": [],
   "source": [
    "import pandas as pd\n",
    "import numpy as np \n",
    "import cv2\n",
    "from sklearn.cluster import KMeans \n",
    "from ast import literal_eval  \n",
    "import os"
   ]
  },
  {
   "cell_type": "code",
   "execution_count": 30,
   "id": "ac4089c5-055c-49f6-8569-58e9c0a9d776",
   "metadata": {},
   "outputs": [
    {
     "name": "stdout",
     "output_type": "stream",
     "text": [
      "Closest color: palegoldenrod\n"
     ]
    }
   ],
   "source": [
    "import webcolors\n",
    "\n",
    "def closest_color(rgb):\n",
    "    \"\"\"Find the closest named color for a given RGB value.\"\"\"\n",
    "    try:\n",
    "        # Try to get an exact color name; you can specify spec if needed.\n",
    "        return webcolors.rgb_to_name(rgb, spec=\"css3\")\n",
    "    except ValueError:\n",
    "        # No exact match: find the closest one.\n",
    "        color_names = webcolors.names()  # This returns a list of color names\n",
    "        min_distance = float(\"inf\")\n",
    "        closest_name = None\n",
    "        \n",
    "        # Iterate over the list of color names\n",
    "        for name in color_names:\n",
    "            # Convert the color name to its hex value, then to an RGB tuple\n",
    "            hex_value = webcolors.name_to_hex(name)\n",
    "            current_rgb = webcolors.hex_to_rgb(hex_value)\n",
    "            \n",
    "            # Calculate the Euclidean distance (squared) between rgb and current_rgb\n",
    "            distance = sum((c1 - c2) ** 2 for c1, c2 in zip(rgb, current_rgb))\n",
    "            if distance < min_distance:\n",
    "                min_distance = distance\n",
    "                closest_name = name\n",
    "        \n",
    "        return closest_name\n",
    "\n",
    "# Example usage:\n",
    "rgb_value = (233, 216, 163)\n",
    "color_name = closest_color(rgb_value)\n",
    "print(\"Closest color:\", color_name)\n"
   ]
  },
  {
   "cell_type": "code",
   "execution_count": 31,
   "id": "6ea6df86-99c8-4fe1-8f52-366d22fdfd44",
   "metadata": {
    "scrolled": true
   },
   "outputs": [
    {
     "name": "stdout",
     "output_type": "stream",
     "text": [
      "129\n"
     ]
    }
   ],
   "source": [
    "fg = pd.read_csv(r\"C:\\Users\\Shreyas R . P\\Desktop\\acm\\block data csv\\datablocktwo.csv\")\n",
    "names = []\n",
    "print(len(fg))"
   ]
  },
  {
   "cell_type": "code",
   "execution_count": 32,
   "id": "ae146a9d-41c9-4e74-8a8c-dc9f5591a5d2",
   "metadata": {},
   "outputs": [],
   "source": [
    "for i in range(len(fg)):\n",
    "    gf = fg.iloc[i][\"filtered_values\"]\n",
    "    if isinstance(gf, str):\n",
    "        gf = literal_eval(gf)\n",
    "    gf = np.array(gf)\n",
    "    k = 2\n",
    "    kmeans = KMeans(n_clusters=k, random_state=0, n_init=10)\n",
    "    kmeans.fit(gf)\n",
    "    dominant_color = kmeans.cluster_centers_.astype(int)[0]\n",
    "    color_name = closest_color(dominant_color)\n",
    "    names.append(str(color_name))"
   ]
  },
  {
   "cell_type": "code",
   "execution_count": 33,
   "id": "72e63adf-b14b-4208-87b5-24a0392d5e3d",
   "metadata": {},
   "outputs": [
    {
     "name": "stdout",
     "output_type": "stream",
     "text": [
      "129\n"
     ]
    }
   ],
   "source": [
    "names \n",
    "print(len(names))"
   ]
  },
  {
   "cell_type": "code",
   "execution_count": 34,
   "id": "fb9b9331-3328-42fe-adc2-c06f11e821b0",
   "metadata": {},
   "outputs": [
    {
     "name": "stdout",
     "output_type": "stream",
     "text": [
      "129\n",
      "129\n"
     ]
    }
   ],
   "source": [
    "tr = fg.iloc[:,(0)]\n",
    "tr\n",
    "print(len(tr))\n",
    "print(len(names))"
   ]
  },
  {
   "cell_type": "code",
   "execution_count": 35,
   "id": "073f51f3-9ded-4547-b614-a2d0c1ac720a",
   "metadata": {},
   "outputs": [],
   "source": [
    "combined_df = pd.DataFrame({\n",
    "    \"Ndex\" : tr ,\n",
    "    \"colour\" : names\n",
    "})"
   ]
  },
  {
   "cell_type": "code",
   "execution_count": 36,
   "id": "9fd905c3-23b5-4476-b438-d38689e04584",
   "metadata": {},
   "outputs": [
    {
     "data": {
      "text/html": [
       "<div>\n",
       "<style scoped>\n",
       "    .dataframe tbody tr th:only-of-type {\n",
       "        vertical-align: middle;\n",
       "    }\n",
       "\n",
       "    .dataframe tbody tr th {\n",
       "        vertical-align: top;\n",
       "    }\n",
       "\n",
       "    .dataframe thead th {\n",
       "        text-align: right;\n",
       "    }\n",
       "</style>\n",
       "<table border=\"1\" class=\"dataframe\">\n",
       "  <thead>\n",
       "    <tr style=\"text-align: right;\">\n",
       "      <th></th>\n",
       "      <th>Ndex</th>\n",
       "      <th>colour</th>\n",
       "    </tr>\n",
       "  </thead>\n",
       "  <tbody>\n",
       "    <tr>\n",
       "      <th>0</th>\n",
       "      <td>202.png</td>\n",
       "      <td>cadetblue</td>\n",
       "    </tr>\n",
       "    <tr>\n",
       "      <th>1</th>\n",
       "      <td>204.png</td>\n",
       "      <td>lightslategray</td>\n",
       "    </tr>\n",
       "    <tr>\n",
       "      <th>2</th>\n",
       "      <td>205.png</td>\n",
       "      <td>saddlebrown</td>\n",
       "    </tr>\n",
       "    <tr>\n",
       "      <th>3</th>\n",
       "      <td>210.png</td>\n",
       "      <td>thistle</td>\n",
       "    </tr>\n",
       "    <tr>\n",
       "      <th>4</th>\n",
       "      <td>212.png</td>\n",
       "      <td>indianred</td>\n",
       "    </tr>\n",
       "    <tr>\n",
       "      <th>...</th>\n",
       "      <td>...</td>\n",
       "      <td>...</td>\n",
       "    </tr>\n",
       "    <tr>\n",
       "      <th>124</th>\n",
       "      <td>391.png</td>\n",
       "      <td>darkkhaki</td>\n",
       "    </tr>\n",
       "    <tr>\n",
       "      <th>125</th>\n",
       "      <td>393.png</td>\n",
       "      <td>lightgray</td>\n",
       "    </tr>\n",
       "    <tr>\n",
       "      <th>126</th>\n",
       "      <td>394.png</td>\n",
       "      <td>darkgray</td>\n",
       "    </tr>\n",
       "    <tr>\n",
       "      <th>127</th>\n",
       "      <td>395.png</td>\n",
       "      <td>darkgray</td>\n",
       "    </tr>\n",
       "    <tr>\n",
       "      <th>128</th>\n",
       "      <td>400.png</td>\n",
       "      <td>darkkhaki</td>\n",
       "    </tr>\n",
       "  </tbody>\n",
       "</table>\n",
       "<p>129 rows × 2 columns</p>\n",
       "</div>"
      ],
      "text/plain": [
       "        Ndex          colour\n",
       "0    202.png       cadetblue\n",
       "1    204.png  lightslategray\n",
       "2    205.png     saddlebrown\n",
       "3    210.png         thistle\n",
       "4    212.png       indianred\n",
       "..       ...             ...\n",
       "124  391.png       darkkhaki\n",
       "125  393.png       lightgray\n",
       "126  394.png        darkgray\n",
       "127  395.png        darkgray\n",
       "128  400.png       darkkhaki\n",
       "\n",
       "[129 rows x 2 columns]"
      ]
     },
     "execution_count": 36,
     "metadata": {},
     "output_type": "execute_result"
    }
   ],
   "source": [
    "combined_df"
   ]
  },
  {
   "cell_type": "code",
   "execution_count": 37,
   "id": "3cc68570-ea99-4bc4-bbe7-b8ea4397670f",
   "metadata": {},
   "outputs": [],
   "source": [
    "combined_df.to_csv(\"combined_outputthree.csv\", index=False)"
   ]
  },
  {
   "cell_type": "code",
   "execution_count": null,
   "id": "a739ac10-17e8-4875-b9e5-d57124818d55",
   "metadata": {},
   "outputs": [],
   "source": []
  }
 ],
 "metadata": {
  "kernelspec": {
   "display_name": "Python 3 (ipykernel)",
   "language": "python",
   "name": "python3"
  },
  "language_info": {
   "codemirror_mode": {
    "name": "ipython",
    "version": 3
   },
   "file_extension": ".py",
   "mimetype": "text/x-python",
   "name": "python",
   "nbconvert_exporter": "python",
   "pygments_lexer": "ipython3",
   "version": "3.12.4"
  }
 },
 "nbformat": 4,
 "nbformat_minor": 5
}
