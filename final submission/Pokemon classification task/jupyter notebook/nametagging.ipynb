{
 "cells": [
  {
   "cell_type": "code",
   "execution_count": 18,
   "id": "9098a6cc-1522-47e9-a40f-21e6c4fcda7a",
   "metadata": {},
   "outputs": [],
   "source": [
    "import pandas as pd"
   ]
  },
  {
   "cell_type": "code",
   "execution_count": 12,
   "id": "dee6fca6-a0a3-4f78-8dd4-3057f4adaf0f",
   "metadata": {},
   "outputs": [
    {
     "name": "stdout",
     "output_type": "stream",
     "text": [
      "First CSV:\n",
      "            Ndex          colour\n",
      "0         3.png         dimgray\n",
      "1         5.png      darksalmon\n",
      "2  6-mega-y.png   darkslategray\n",
      "3         6.png      darksalmon\n",
      "4         8.png  lightsteelblue\n",
      "\n",
      "Second CSV:\n",
      "    Index  Unnamed: 0     Pokemon  Ndex\n",
      "0      0           1   Bulbasaur     1\n",
      "1      1           2     Ivysaur     2\n",
      "2      2           3    Venusaur     3\n",
      "3      4           5  Charmander     4\n",
      "4      5           6  Charmeleon     5\n",
      "\n",
      "Columns in first CSV: Index(['Ndex', 'colour'], dtype='object')\n",
      "Columns in second CSV: Index(['Index', 'Unnamed: 0', 'Pokemon', 'Ndex'], dtype='object')\n"
     ]
    }
   ],
   "source": [
    "\n",
    "\n",
    "df1 = pd.read_csv(r\"C:\\Users\\Shreyas R . P\\Desktop\\acm\\final output\\sorted_pokemon_data.csv\")\n",
    "df2 = pd.read_csv(r\"C:\\Users\\Shreyas R . P\\Desktop\\acm\\final output\\namedata.csv\")\n",
    "print(\"First CSV:\\n\", df1.head())\n",
    "print(\"\\nSecond CSV:\\n\", df2.head())\n",
    "print(\"\\nColumns in first CSV:\", df1.columns)\n",
    "print(\"Columns in second CSV:\", df2.columns)\n"
   ]
  },
  {
   "cell_type": "code",
   "execution_count": 13,
   "id": "b151fa9c-d032-4a6a-9ec1-999ad49a9213",
   "metadata": {},
   "outputs": [
    {
     "name": "stdout",
     "output_type": "stream",
     "text": [
      "Ndex      object\n",
      "colour    object\n",
      "dtype: object\n",
      "Index          int64\n",
      "Unnamed: 0     int64\n",
      "Pokemon       object\n",
      "Ndex           int64\n",
      "dtype: object\n"
     ]
    }
   ],
   "source": [
    "print(df1.dtypes)\n",
    "print(df2.dtypes)"
   ]
  },
  {
   "cell_type": "code",
   "execution_count": 14,
   "id": "10b41d83-7b3d-4449-8891-97844eb00ef3",
   "metadata": {},
   "outputs": [],
   "source": [
    "df1[\"Ndex\"] = df1[\"Ndex\"].astype(str)\n",
    "df2[\"Ndex\"] = df2[\"Ndex\"].astype(str)\n"
   ]
  },
  {
   "cell_type": "code",
   "execution_count": 15,
   "id": "7c411e63-c25b-43d2-b1b8-63ca63b47ad0",
   "metadata": {},
   "outputs": [
    {
     "name": "stdout",
     "output_type": "stream",
     "text": [
      "Ndex      object\n",
      "colour    object\n",
      "dtype: object\n",
      "Index          int64\n",
      "Unnamed: 0     int64\n",
      "Pokemon       object\n",
      "Ndex          object\n",
      "dtype: object\n"
     ]
    }
   ],
   "source": [
    "print(df1.dtypes)\n",
    "print(df2.dtypes)"
   ]
  },
  {
   "cell_type": "code",
   "execution_count": 16,
   "id": "7075d6d4-40f6-48c4-b496-63ed604ecb48",
   "metadata": {},
   "outputs": [],
   "source": [
    "df_merged = pd.merge(df1, df2, on=\"Ndex\", how=\"outer\")"
   ]
  },
  {
   "cell_type": "code",
   "execution_count": 17,
   "id": "8a0a91ee-3f58-4a69-b1b5-014e7262a0df",
   "metadata": {},
   "outputs": [
    {
     "name": "stdout",
     "output_type": "stream",
     "text": [
      "Merged file saved successfully!\n"
     ]
    },
    {
     "data": {
      "text/html": [
       "<div>\n",
       "<style scoped>\n",
       "    .dataframe tbody tr th:only-of-type {\n",
       "        vertical-align: middle;\n",
       "    }\n",
       "\n",
       "    .dataframe tbody tr th {\n",
       "        vertical-align: top;\n",
       "    }\n",
       "\n",
       "    .dataframe thead th {\n",
       "        text-align: right;\n",
       "    }\n",
       "</style>\n",
       "<table border=\"1\" class=\"dataframe\">\n",
       "  <thead>\n",
       "    <tr style=\"text-align: right;\">\n",
       "      <th></th>\n",
       "      <th>Ndex</th>\n",
       "      <th>colour</th>\n",
       "      <th>Index</th>\n",
       "      <th>Unnamed: 0</th>\n",
       "      <th>Pokemon</th>\n",
       "    </tr>\n",
       "  </thead>\n",
       "  <tbody>\n",
       "    <tr>\n",
       "      <th>0</th>\n",
       "      <td>1</td>\n",
       "      <td>NaN</td>\n",
       "      <td>0.0</td>\n",
       "      <td>1.0</td>\n",
       "      <td>Bulbasaur</td>\n",
       "    </tr>\n",
       "    <tr>\n",
       "      <th>1</th>\n",
       "      <td>10</td>\n",
       "      <td>NaN</td>\n",
       "      <td>13.0</td>\n",
       "      <td>14.0</td>\n",
       "      <td>Caterpie</td>\n",
       "    </tr>\n",
       "    <tr>\n",
       "      <th>2</th>\n",
       "      <td>10.png</td>\n",
       "      <td>darkkhaki</td>\n",
       "      <td>NaN</td>\n",
       "      <td>NaN</td>\n",
       "      <td>NaN</td>\n",
       "    </tr>\n",
       "    <tr>\n",
       "      <th>3</th>\n",
       "      <td>100</td>\n",
       "      <td>NaN</td>\n",
       "      <td>131.0</td>\n",
       "      <td>132.0</td>\n",
       "      <td>Voltorb</td>\n",
       "    </tr>\n",
       "    <tr>\n",
       "      <th>4</th>\n",
       "      <td>101</td>\n",
       "      <td>NaN</td>\n",
       "      <td>132.0</td>\n",
       "      <td>133.0</td>\n",
       "      <td>Electrode</td>\n",
       "    </tr>\n",
       "    <tr>\n",
       "      <th>...</th>\n",
       "      <td>...</td>\n",
       "      <td>...</td>\n",
       "      <td>...</td>\n",
       "      <td>...</td>\n",
       "      <td>...</td>\n",
       "    </tr>\n",
       "    <tr>\n",
       "      <th>1351</th>\n",
       "      <td>97.png</td>\n",
       "      <td>burlywood</td>\n",
       "      <td>NaN</td>\n",
       "      <td>NaN</td>\n",
       "      <td>NaN</td>\n",
       "    </tr>\n",
       "    <tr>\n",
       "      <th>1352</th>\n",
       "      <td>98</td>\n",
       "      <td>NaN</td>\n",
       "      <td>129.0</td>\n",
       "      <td>130.0</td>\n",
       "      <td>Krabby</td>\n",
       "    </tr>\n",
       "    <tr>\n",
       "      <th>1353</th>\n",
       "      <td>98.png</td>\n",
       "      <td>tan</td>\n",
       "      <td>NaN</td>\n",
       "      <td>NaN</td>\n",
       "      <td>NaN</td>\n",
       "    </tr>\n",
       "    <tr>\n",
       "      <th>1354</th>\n",
       "      <td>99</td>\n",
       "      <td>NaN</td>\n",
       "      <td>130.0</td>\n",
       "      <td>131.0</td>\n",
       "      <td>Kingler</td>\n",
       "    </tr>\n",
       "    <tr>\n",
       "      <th>1355</th>\n",
       "      <td>99.png</td>\n",
       "      <td>darkslategray</td>\n",
       "      <td>NaN</td>\n",
       "      <td>NaN</td>\n",
       "      <td>NaN</td>\n",
       "    </tr>\n",
       "  </tbody>\n",
       "</table>\n",
       "<p>1356 rows × 5 columns</p>\n",
       "</div>"
      ],
      "text/plain": [
       "        Ndex         colour  Index  Unnamed: 0    Pokemon\n",
       "0          1            NaN    0.0         1.0  Bulbasaur\n",
       "1         10            NaN   13.0        14.0   Caterpie\n",
       "2     10.png      darkkhaki    NaN         NaN        NaN\n",
       "3        100            NaN  131.0       132.0    Voltorb\n",
       "4        101            NaN  132.0       133.0  Electrode\n",
       "...      ...            ...    ...         ...        ...\n",
       "1351  97.png      burlywood    NaN         NaN        NaN\n",
       "1352      98            NaN  129.0       130.0     Krabby\n",
       "1353  98.png            tan    NaN         NaN        NaN\n",
       "1354      99            NaN  130.0       131.0    Kingler\n",
       "1355  99.png  darkslategray    NaN         NaN        NaN\n",
       "\n",
       "[1356 rows x 5 columns]"
      ]
     },
     "execution_count": 17,
     "metadata": {},
     "output_type": "execute_result"
    }
   ],
   "source": [
    "df_merged.to_csv(\"merged_file_two.csv\", index=False)\n",
    "print(\"Merged file saved successfully!\")\n",
    "df_merged"
   ]
  },
  {
   "cell_type": "code",
   "execution_count": null,
   "id": "fe65276d-0369-49b1-b37d-7181309936c3",
   "metadata": {},
   "outputs": [],
   "source": []
  }
 ],
 "metadata": {
  "kernelspec": {
   "display_name": "Python 3 (ipykernel)",
   "language": "python",
   "name": "python3"
  },
  "language_info": {
   "codemirror_mode": {
    "name": "ipython",
    "version": 3
   },
   "file_extension": ".py",
   "mimetype": "text/x-python",
   "name": "python",
   "nbconvert_exporter": "python",
   "pygments_lexer": "ipython3",
   "version": "3.12.4"
  }
 },
 "nbformat": 4,
 "nbformat_minor": 5
}
